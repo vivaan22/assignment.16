{
 "cells": [
  {
   "cell_type": "code",
   "execution_count": null,
   "id": "0a088a63",
   "metadata": {},
   "outputs": [],
   "source": [
    "def valid_number(str):\n",
    "    i = 0\n",
    "    j = len(str) - 1\n",
    " \n",
    "    # Handling whitespaces\n",
    "    while i<len(str) and str[i] == ' ':\n",
    "        i += 1\n",
    "    while j >= 0 and str[j] == ' ':\n",
    "        j -= 1\n",
    " \n",
    "    if i > j:\n",
    "        return False"
   ]
  },
  {
   "cell_type": "code",
   "execution_count": null,
   "id": "7c0db895",
   "metadata": {},
   "outputs": [],
   "source": [
    "def lastWord(string):\n",
    "   \n",
    "    # taking empty string\n",
    "    newstring = \"\"\n",
    "     \n",
    "    # calculating length of string\n",
    "    length = len(string)\n",
    "     \n",
    "    # traversing from last\n",
    "    for i in range(length-1, 0, -1):\n",
    "       \n",
    "        # if space is occurred then return\n",
    "        if(string[i] == \" \"):\n",
    "           \n",
    "            # return reverse of newstring\n",
    "            return newstring[::-1]\n",
    "        else:\n",
    "            newstring = newstring + string[i]"
   ]
  },
  {
   "cell_type": "code",
   "execution_count": null,
   "id": "15c57fdd",
   "metadata": {},
   "outputs": [],
   "source": [
    "def Round_off(N, n):\n",
    "    b = N\n",
    "    c = floor(N)\n",
    " \n",
    "    # Counting the no. of digits\n",
    "    # to the left of decimal point\n",
    "    # in the given no.\n",
    "    i = 0;\n",
    "    while(b >= 1):\n",
    "        b = b / 10\n",
    "        i = i + 1\n",
    " \n",
    "    d = n - i\n",
    "    b = N\n",
    "    b = b * pow(10, d)\n",
    "    e = b + 0.5\n",
    "    if (float(e) == float(ceil(b))):\n",
    "        f = (ceil(b))\n",
    "        h = f - 2\n",
    "        if (h % 2 != 0):\n",
    "            e = e - 1\n",
    "    j = floor(e)\n",
    "    m = pow(10, d)\n",
    "    j = j / m\n",
    "    print(\"The number after rounding-off is\", j)\n",
    " "
   ]
  },
  {
   "cell_type": "code",
   "execution_count": null,
   "id": "8fb4381d",
   "metadata": {},
   "outputs": [],
   "source": [
    "n = int(input(\"Input a number: \"))\n",
    "\n",
    "# use for loop to iterate 10 times\n",
    "for i in range(1,11):\n",
    "   print(n,'x',i,'=',n*i)"
   ]
  },
  {
   "cell_type": "code",
   "execution_count": null,
   "id": "e58486c4",
   "metadata": {},
   "outputs": [],
   "source": [
    "def isVowel(ch):\n",
    "    if(ch == 'a' or ch == 'e' or\n",
    "       ch == 'i' or ch == 'o' or\n",
    "       ch == 'u'):\n",
    "        return True\n",
    "    return False"
   ]
  }
 ],
 "metadata": {
  "kernelspec": {
   "display_name": "Python 3",
   "language": "python",
   "name": "python3"
  },
  "language_info": {
   "codemirror_mode": {
    "name": "ipython",
    "version": 3
   },
   "file_extension": ".py",
   "mimetype": "text/x-python",
   "name": "python",
   "nbconvert_exporter": "python",
   "pygments_lexer": "ipython3",
   "version": "3.8.8"
  }
 },
 "nbformat": 4,
 "nbformat_minor": 5
}
